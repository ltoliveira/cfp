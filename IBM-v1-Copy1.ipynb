{
 "cells": [
  {
   "cell_type": "markdown",
   "metadata": {},
   "source": [
    "**Open source methodology to capture types of deprived areas in Metropolitan Areas in View of the Locus Charter**\n",
    "\n",
    "This notebook was developed as part of the CFP project funded by Notre Dame-IBM Tech Ethics Lab under the proposal 'Solving Ethical Challenges in the Design of Open-Source Environments: Scaling Urban Mapping Models in View of the Locus Charter'\n",
    "\n",
    "Authors: Lorraine Trento Oliveira, Dr. Julio Pedrassoli, Dr. Monika Kuffer.\n",
    "\n",
    "\n",
    "\n",
    "## Introduction\n",
    "\n",
    "### Description\n",
    "\n",
    "CFP funding project. \n",
    "\n",
    "\n",
    "### Prerequisite\n",
    "- A Google Earth Engine account. Sign up [here](https://earthengine.google.com) if needed. \n",
    "- [Miniconda](https://docs.conda.io/en/latest/miniconda.html) or [Anaconda](https://www.anaconda.com/products/individual)\n",
    "\n",
    "\n",
    "### Set up a conda environment\n",
    "\n",
    "```\n",
    "conda create -n geo python=3.8\n",
    "conda activate geo\n",
    "conda install geemap -c conda-forge\n",
    "conda install jupyter_contrib_nbextensions -c conda-forge\n",
    "jupyter contrib nbextension install --user\n",
    "perhaps also: conda update -c conda-forge earthengine-api\n",
    "```\n"
   ]
  },
  {
   "cell_type": "markdown",
   "metadata": {},
   "source": [
    "## Input preparation\n",
    "\n",
    "### Import libraries"
   ]
  },
  {
   "cell_type": "code",
   "execution_count": 6,
   "metadata": {},
   "outputs": [],
   "source": [
    "#It is required to run this again everytime you start the kernel\n",
    "import os\n",
    "import ee\n",
    "import geemap"
   ]
  },
  {
   "cell_type": "markdown",
   "metadata": {},
   "source": [
    "### Upload and prepare data\n",
    "\n",
    "The required input data depends on the local characteristics of the study area. Based on literature review, the following datasets can be used to derive the spatial attributes of the Metropolitan Area of São Paulo (MASP). \n",
    "The datasets are acquired through the GEE data catalog and by uploading datasets as assets."
   ]
  },
  {
   "cell_type": "code",
   "execution_count": 15,
   "metadata": {
    "scrolled": false
   },
   "outputs": [
    {
     "data": {
      "application/vnd.jupyter.widget-view+json": {
       "model_id": "dd81b0c8e6474badb31f0257ce948725",
       "version_major": 2,
       "version_minor": 0
      },
      "text/plain": [
       "Map(center=[-24, -48], controls=(WidgetControl(options=['position', 'transparent_bg'], widget=HBox(children=(T…"
      ]
     },
     "metadata": {},
     "output_type": "display_data"
    }
   ],
   "source": [
    "#Create the default interactive map\n",
    "Map = geemap.Map(center=(-24, -48), zoom=7)\n",
    "Map"
   ]
  },
  {
   "cell_type": "markdown",
   "metadata": {},
   "source": [
    "#### AGSN and MASP layers"
   ]
  },
  {
   "cell_type": "markdown",
   "metadata": {},
   "source": [
    "**AGSN layer: deprived areas layer for the Brazilian territory, downloaded from the National Statistics Bureau at https://ibge.gov.br/geociencias/organizacao-do-territorio/tipologias-do-territorio/15788-aglomerados-subnormais.html?=&t=acesso-ao-produto**\n",
    "\n",
    "\n",
    "**MASP layer: study area spatial extent layer, downloaded from the National Spatial Data Infrastructure (INDE) at https://visualizador.inde.gov.br/Ativar?url=https://ide.emplasa.sp.gov.br/geoserver/ows**\n",
    "\n",
    "\n",
    "**To import assets from your EE account to the script, it is necessary to copy your own user access ID:**"
   ]
  },
  {
   "cell_type": "code",
   "execution_count": 16,
   "metadata": {},
   "outputs": [
    {
     "data": {
      "application/vnd.jupyter.widget-view+json": {
       "model_id": "dd81b0c8e6474badb31f0257ce948725",
       "version_major": 2,
       "version_minor": 0
      },
      "text/plain": [
       "Map(bottom=18935.0, center=[-23.59841241158308, -46.53626586100811], controls=(WidgetControl(options=['positio…"
      ]
     },
     "metadata": {},
     "output_type": "display_data"
    }
   ],
   "source": [
    "#Import AGSN layer to GEE account:\n",
    "AGSN = ee.FeatureCollection('users/lorrainetoliveira/agsn2019')\n",
    "Map.addLayer(AGSN, {}, \"AGSN\")\n",
    "\n",
    "#Import MASP polygon layer as ROI (region of interest):\n",
    "roi = ee.FeatureCollection('users/lorrainetoliveira/masp2010')\n",
    "Map.addLayer(roi, {}, \"MASP\")\n",
    "\n",
    "#Clip AGSN to the ROI boundaries:\n",
    "clip_agsn = AGSN.filterBounds(roi)\n",
    "\n",
    "# Display a clipped version of AGSN layer:\n",
    "Map.centerObject(ee.FeatureCollection(roi), 9)\n",
    "Map.addLayer(clip_agsn, {}, 'Clip_AGSN', False)\n",
    "Map"
   ]
  },
  {
   "cell_type": "markdown",
   "metadata": {},
   "source": [
    "#### DEM"
   ]
  },
  {
   "cell_type": "code",
   "execution_count": 17,
   "metadata": {
    "scrolled": false
   },
   "outputs": [
    {
     "data": {
      "application/vnd.jupyter.widget-view+json": {
       "model_id": "dd81b0c8e6474badb31f0257ce948725",
       "version_major": 2,
       "version_minor": 0
      },
      "text/plain": [
       "Map(bottom=74721.0, center=[-23.59841241158308, -46.53626586100811], controls=(WidgetControl(options=['positio…"
      ]
     },
     "metadata": {},
     "output_type": "display_data"
    }
   ],
   "source": [
    "#Load the DEM from GEE catalog:\n",
    "nasadem = ee.Image('NASA/NASADEM_HGT/001')\n",
    "\n",
    "#Clip DEM to the roi boundaries:\n",
    "clip_dem = nasadem.clip(roi)\n",
    "\n",
    "#Set Visualization parameters:\n",
    "vizParams_dem = {\n",
    "    'bands': ['elevation'],\n",
    "    'min': 0,\n",
    "    'max': 3300,\n",
    "    'gamma': [1],\n",
    "    'opacity': 1\n",
    "}\n",
    "\n",
    "#Display the DEM' clipped version: \n",
    "Map.centerObject(ee.FeatureCollection(roi), 9)\n",
    "Map.addLayer(clip_dem, vizParams_dem, 'Clip_DEM')\n",
    "Map"
   ]
  },
  {
   "cell_type": "markdown",
   "metadata": {},
   "source": [
    "#### Landsat 8"
   ]
  },
  {
   "cell_type": "code",
   "execution_count": 18,
   "metadata": {
    "scrolled": false
   },
   "outputs": [
    {
     "data": {
      "application/vnd.jupyter.widget-view+json": {
       "model_id": "dd81b0c8e6474badb31f0257ce948725",
       "version_major": 2,
       "version_minor": 0
      },
      "text/plain": [
       "Map(bottom=74682.0, center=[-23.59841241158308, -46.53626586100811], controls=(WidgetControl(options=['positio…"
      ]
     },
     "metadata": {},
     "output_type": "display_data"
    }
   ],
   "source": [
    "#Load the LANDSAT imagery from GEE catalog \n",
    "#Collection 1 is ceased from december 2021 on. This is the substitute:\n",
    "l8 = ee.ImageCollection(\"LANDSAT/LC08/C02/T1_TOA\")\n",
    "\n",
    "#Filter by date, bounds and cloud coverage:\n",
    "l8_filtered = ee.ImageCollection(\"LANDSAT/LC08/C02/T1_TOA\") \\\n",
    "  .filterDate('2019-01-01', '2019-12-31') \\\n",
    "  .filterBounds(roi) \\\n",
    "  .filterMetadata('CLOUD_COVER', 'less_than', 1)\n",
    "\n",
    "#Select only the panchromatic band: \n",
    "band_pan = l8_filtered.select(['B8'])\n",
    "\n",
    "#Unmask to ensure we have the same number of values everywhere:\n",
    "band_pan = band_pan.map(lambda i: i.unmask(-1))\n",
    "\n",
    "#Check number of suitable images: \n",
    "band_pan.aggregate_array('CLOUD_COVER').getInfo()\n",
    "\n",
    "#Mosaicking: spatially assemble the images to produce a spatially continuous image:\n",
    "l8_mosaic = band_pan.mosaic()\n",
    "\n",
    "#Clip to ROI:\n",
    "l8_prep = l8_mosaic.clip(roi)\n",
    "\n",
    "#Define visualization parameters:\n",
    "vizParams_b8 = {'bands': ['B8'],\n",
    "             'min': 0.04, 'max': 0.16,'gamma': 1}\n",
    "\n",
    "#Center the map on the image and display:\n",
    "Map.centerObject(ee.FeatureCollection(roi), 9)\n",
    "Map.addLayer(l8_prep, vizParams_b8, 'L8_PAN')\n",
    "Map"
   ]
  },
  {
   "cell_type": "markdown",
   "metadata": {},
   "source": [
    "#### Sentinel 2A"
   ]
  },
  {
   "cell_type": "code",
   "execution_count": 19,
   "metadata": {},
   "outputs": [
    {
     "data": {
      "application/vnd.jupyter.widget-view+json": {
       "model_id": "dd81b0c8e6474badb31f0257ce948725",
       "version_major": 2,
       "version_minor": 0
      },
      "text/plain": [
       "Map(bottom=74682.0, center=[-23.59841241158308, -46.53626586100811], controls=(WidgetControl(options=['positio…"
      ]
     },
     "metadata": {},
     "output_type": "display_data"
    }
   ],
   "source": [
    "#Load the Sentinel 2A imagery from GEE catalog: \n",
    "s2 = ee.ImageCollection(\"COPERNICUS/S2_SR\")\n",
    "\n",
    "#Filter by date, bounds and cloud coverage:\n",
    "s2_filtered = ee.ImageCollection(\"COPERNICUS/S2_SR\") \\\n",
    "  .filterDate('2019-01-01', '2019-12-31') \\\n",
    "  .filterBounds(roi) \\\n",
    "  .filterMetadata('CLOUDY_PIXEL_PERCENTAGE', 'less_than', 0.15) \n",
    "\n",
    "#Select only  band 8(NIR) and band 4(red): \n",
    "s2_b8 = s2_filtered.select(['B8'])\n",
    "s2_b4 = s2_filtered.select(['B4'])\n",
    "\n",
    "#Check number of suitable images: \n",
    "s2_b8.aggregate_array('CLOUDY_PIXEL_PERCENTAGE').getInfo() #Check also the map if they cover the entire ROI \n",
    "\n",
    "#Unmask to ensure we have the same number of values everywhere:\n",
    "s2_b8 = s2_b8.map(lambda i: i.unmask(-1))\n",
    "s2_b4 = s2_b4.map(lambda i: i.unmask(-1))\n",
    "\n",
    "#Reduces an image collection by calculating the median of all values at each pixel across the stack of all matching bands:\n",
    "b8_median = s2_b8.reduce(ee.Reducer.median()) \\\n",
    "  .clip(roi)\n",
    "b4_median = s2_b4.reduce(ee.Reducer.median()) \\\n",
    "  .clip(roi)\n",
    "\n",
    "#Define visualization parameters:\n",
    "vizParams_s2 = {'min': 100, 'max': 5000,'gamma': 1}\n",
    "\n",
    "# Center the map on the image and display:\n",
    "Map.centerObject(ee.FeatureCollection(roi), 9)\n",
    "Map.addLayer(b8_median, vizParams_s2, 'b8')\n",
    "Map.addLayer(b4_median, vizParams_s2, 'b4')\n",
    "Map"
   ]
  },
  {
   "cell_type": "markdown",
   "metadata": {},
   "source": [
    "#### World Settlement Footprint 2019"
   ]
  },
  {
   "cell_type": "markdown",
   "metadata": {},
   "source": [
    "**First, download the tiles from https://download.geoservice.dlr.de/WSF2019/files/ considering the respective roi coordinates. Then, upload them to the EE assets as GeoTIFF image files:**"
   ]
  },
  {
   "cell_type": "code",
   "execution_count": 20,
   "metadata": {},
   "outputs": [
    {
     "data": {
      "application/vnd.jupyter.widget-view+json": {
       "model_id": "dd81b0c8e6474badb31f0257ce948725",
       "version_major": 2,
       "version_minor": 0
      },
      "text/plain": [
       "Map(bottom=74682.0, center=[-23.59841241158308, -46.53626586100811], controls=(WidgetControl(options=['positio…"
      ]
     },
     "metadata": {},
     "output_type": "display_data"
    }
   ],
   "source": [
    "#Load the images:\n",
    "WSF_4624 = ee.Image('users/lorrainetoliveira/WSF2019_v1_-46_-24')\n",
    "WSF_4824 = ee.Image('users/lorrainetoliveira/WSF2019_v1_-48_-24')\n",
    "\n",
    "#Mosaic the two images to produce a spatially continuous image:\n",
    "WSF_mosaic = ee.ImageCollection([WSF_4624,WSF_4824])\n",
    "\n",
    "#Unmask to ensure we have the same number of values everywhere:\n",
    "WSF_mosaic = WSF_mosaic.map(lambda i: i.unmask(-1))\n",
    "\n",
    "#Reduces an image collection to an image by calculating the median of all values at each pixel across the stack:\n",
    "WSF_median = WSF_mosaic.reduce(ee.Reducer.median()) \\\n",
    "  .clip(roi)\n",
    "\n",
    "#Define visualization parameters:\n",
    "vizParams_wsf = {'min': 0, 'max': 255,'gamma': 1}\n",
    "\n",
    "#Center the map on the image and display:\n",
    "Map.centerObject(ee.FeatureCollection(roi), 9)\n",
    "Map.addLayer(WSF_median, vizParams_wsf, 'WSF')\n",
    "Map"
   ]
  },
  {
   "cell_type": "markdown",
   "metadata": {},
   "source": [
    "#### WorldPop"
   ]
  },
  {
   "cell_type": "code",
   "execution_count": 21,
   "metadata": {},
   "outputs": [
    {
     "name": "stdout",
     "output_type": "stream",
     "text": [
      "{'population': 3691.753173828125}\n"
     ]
    }
   ],
   "source": [
    "#Load the layer from GEE catalog:\n",
    "GPop = ee.ImageCollection('WorldPop/GP/100m/pop')\n",
    "\n",
    "#Select only the panchromatic band: \n",
    "GPop_pop = GPop.select(['population'])\n",
    "\n",
    "#Mosaicking: spatially assemble the images to produce a spatially continuous image:\n",
    "GPop_mosaic = GPop_pop.mosaic()\n",
    "\n",
    "#Clip to ROI:\n",
    "Gpop_clip = GPop_mosaic.clip(roi)\n",
    "\n",
    "# -----------------------\n",
    "MaxValues = GPop_mosaic.reduceRegion(**{\n",
    "    'reducer': ee.Reducer.max(),\n",
    "    'geometry': roi,\n",
    "    'scale': 100,\n",
    "    'crs': 'EPSG:4326',\n",
    "})\n",
    "                                \n",
    "print(MaxValues.getInfo())"
   ]
  },
  {
   "cell_type": "code",
   "execution_count": 22,
   "metadata": {},
   "outputs": [
    {
     "data": {
      "application/vnd.jupyter.widget-view+json": {
       "model_id": "dd81b0c8e6474badb31f0257ce948725",
       "version_major": 2,
       "version_minor": 0
      },
      "text/plain": [
       "Map(bottom=74682.0, center=[-23.59841241158308, -46.53626586100811], controls=(WidgetControl(options=['positio…"
      ]
     },
     "metadata": {},
     "output_type": "display_data"
    }
   ],
   "source": [
    "#Set Visualization parameters:\n",
    "vizParams_gpop = {'min': 0.0, 'max': 50.0,'palette': ['24126c', '1fff4f', 'd4ff50']}\n",
    "\n",
    "#Center the map on the image and display:\n",
    "Map.centerObject(ee.FeatureCollection(roi), 9)\n",
    "Map.addLayer(Gpop_clip, vizParams_gpop, 'WorldPop')\n",
    "Map"
   ]
  },
  {
   "cell_type": "markdown",
   "metadata": {},
   "source": [
    "#### OSM layers"
   ]
  },
  {
   "cell_type": "markdown",
   "metadata": {},
   "source": [
    " - First, download OSM layers from https://export.hotosm.org/ and upload as .shp (or .zip) asset to your GEE account. Perhaps more than one export need to be done in order to cover the entire ROI. (Remember to separate the layers per geometry feature before uploading to GEE)\n",
    " - Then, some data cleanup is necessary because osm includes way more information than we need (considering the variables chosen in the project)"
   ]
  },
  {
   "cell_type": "code",
   "execution_count": null,
   "metadata": {
    "scrolled": false
   },
   "outputs": [],
   "source": [
    "# packages\n",
    "! pip install geopandas\n",
    "! pip install cartopy\n",
    "! pip install osmnx"
   ]
  },
  {
   "cell_type": "code",
   "execution_count": 31,
   "metadata": {},
   "outputs": [
    {
     "data": {
      "application/vnd.jupyter.widget-view+json": {
       "model_id": "5dc2c70d131b4584849c1166567751e0",
       "version_major": 2,
       "version_minor": 0
      },
      "text/plain": [
       "Map(center=[-23.59841241158308, -46.53626586100811], controls=(WidgetControl(options=['position', 'transparent…"
      ]
     },
     "metadata": {},
     "output_type": "display_data"
    }
   ],
   "source": [
    "#Import vector line layers to GEE account:\n",
    "SP_lines = ee.FeatureCollection('users/lorrainetoliveira/RMSP_planet_osm_line_lines')\n",
    "SP_lines2 = ee.FeatureCollection('users/lorrainetoliveira/RMSP2_lines')\n",
    "\n",
    "osm_l = SP_lines.merge(SP_lines2)\n",
    "\n",
    "#Clip AGSN to the ROI boundaries:\n",
    "osm_lines = osm_l.filterBounds(roi)\n",
    "\n",
    "#Layer preparation using Graphical Modeler in QGIS\n",
    "#Please access the following \n",
    "\n",
    "\n",
    "\n",
    "# Display a clipped version of AGSN layer:\n",
    "Map.centerObject(ee.FeatureCollection(roi), 9)\n",
    "Map.addLayer(osm_lines, {}, 'OSM Line Features', False)\n",
    "Map"
   ]
  },
  {
   "cell_type": "code",
   "execution_count": null,
   "metadata": {},
   "outputs": [],
   "source": [
    "#trials\n",
    "Map = geemap.Map()\n",
    "\n",
    "#OSM = geemap.osm_to_ee(\"Sao Paulo, Brasil\")\n",
    "#geemap.osm_to_geopandas\n",
    "#geemap.osm_to_geojson\n",
    "\n",
    "\n",
    "Map.add_osm(\"Sao Paulo, Sao Paulo, Brasil\", layer_name=\"Sao Paulo, Brazil\", to_ee=True)\n",
    "\n",
    "Map.addLayer(OSM, {}, \"Sao Paulo\")\n",
    "Map.centerObject(OSM, 9)\n",
    "Map"
   ]
  }
 ],
 "metadata": {
  "hide_input": false,
  "kernelspec": {
   "display_name": "Python 3 (ipykernel)",
   "language": "python",
   "name": "python3"
  },
  "language_info": {
   "codemirror_mode": {
    "name": "ipython",
    "version": 3
   },
   "file_extension": ".py",
   "mimetype": "text/x-python",
   "name": "python",
   "nbconvert_exporter": "python",
   "pygments_lexer": "ipython3",
   "version": "3.8.12"
  },
  "toc": {
   "base_numbering": 1,
   "nav_menu": {},
   "number_sections": true,
   "sideBar": true,
   "skip_h1_title": false,
   "title_cell": "Table of Contents",
   "title_sidebar": "Contents",
   "toc_cell": false,
   "toc_position": {
    "height": "calc(100% - 180px)",
    "left": "10px",
    "top": "150px",
    "width": "246px"
   },
   "toc_section_display": true,
   "toc_window_display": true
  },
  "varInspector": {
   "cols": {
    "lenName": 16,
    "lenType": 16,
    "lenVar": 40
   },
   "kernels_config": {
    "python": {
     "delete_cmd_postfix": "",
     "delete_cmd_prefix": "del ",
     "library": "var_list.py",
     "varRefreshCmd": "print(var_dic_list())"
    },
    "r": {
     "delete_cmd_postfix": ") ",
     "delete_cmd_prefix": "rm(",
     "library": "var_list.r",
     "varRefreshCmd": "cat(var_dic_list()) "
    }
   },
   "types_to_exclude": [
    "module",
    "function",
    "builtin_function_or_method",
    "instance",
    "_Feature"
   ],
   "window_display": false
  }
 },
 "nbformat": 4,
 "nbformat_minor": 4
}
